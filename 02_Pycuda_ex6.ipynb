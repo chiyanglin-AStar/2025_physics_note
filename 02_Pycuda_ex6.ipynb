{
  "nbformat": 4,
  "nbformat_minor": 0,
  "metadata": {
    "colab": {
      "provenance": [],
      "gpuType": "T4",
      "authorship_tag": "ABX9TyOFR+rqQs6GVAFHX+nlDNrY",
      "include_colab_link": true
    },
    "kernelspec": {
      "name": "python3",
      "display_name": "Python 3"
    },
    "language_info": {
      "name": "python"
    },
    "accelerator": "GPU"
  },
  "cells": [
    {
      "cell_type": "markdown",
      "metadata": {
        "id": "view-in-github",
        "colab_type": "text"
      },
      "source": [
        "<a href=\"https://colab.research.google.com/github/chiyanglin-AStar/2025_physics_note/blob/main/02_Pycuda_ex6.ipynb\" target=\"_parent\"><img src=\"https://colab.research.google.com/assets/colab-badge.svg\" alt=\"Open In Colab\"/></a>"
      ]
    },
    {
      "cell_type": "markdown",
      "source": [
        "This notebook is reference from [Linking Python to CUDA with PyCUDA: A Beginner’s Guide](https://medium.com/@mahmoudalyosify/linking-python-to-cuda-with-pycuda-a-beginners-guide-d128da0ed460)"
      ],
      "metadata": {
        "id": "TYkCCYwQ6CAy"
      }
    },
    {
      "cell_type": "markdown",
      "source": [
        "## PyCUDA ref:\n",
        "\n",
        "[PyCUDA Tutorial(翻譯)](https://hackmd.io/@shaoeChen/SkbmZOXbB/https%3A%2F%2Fhackmd.io%2F%40shaoeChen%2FSkKb0fX-H)\n",
        "\n",
        "[pycuda tutorial](https://documen.tician.de/pycuda/tutorial.html)\n",
        "\n",
        "[PyCUDA Tutorial Introduction](https://github.com/berlinguyinca/pycuda/blob/master/doc/source/tutorial.rst)\n",
        "\n",
        "[GPU程式設計(5) -- Python](https://ithelp.ithome.com.tw/articles/10283144)"
      ],
      "metadata": {
        "id": "eHxi2lduBmsJ"
      }
    },
    {
      "cell_type": "code",
      "execution_count": 4,
      "metadata": {
        "colab": {
          "base_uri": "https://localhost:8080/"
        },
        "id": "ccx8W2s96AUX",
        "outputId": "9ead914a-f2af-4e73-d1a6-7b37c9b212e4"
      },
      "outputs": [
        {
          "output_type": "stream",
          "name": "stdout",
          "text": [
            "Collecting pycuda\n",
            "  Downloading pycuda-2024.1.2.tar.gz (1.7 MB)\n",
            "\u001b[?25l     \u001b[90m━━━━━━━━━━━━━━━━━━━━━━━━━━━━━━━━━━━━━━━━\u001b[0m \u001b[32m0.0/1.7 MB\u001b[0m \u001b[31m?\u001b[0m eta \u001b[36m-:--:--\u001b[0m\r\u001b[2K     \u001b[91m━━━━━━━━━━━━━━━━━━━━━━━━━━━━━━━━━━━━━━━\u001b[0m\u001b[91m╸\u001b[0m \u001b[32m1.7/1.7 MB\u001b[0m \u001b[31m66.2 MB/s\u001b[0m eta \u001b[36m0:00:01\u001b[0m\r\u001b[2K     \u001b[90m━━━━━━━━━━━━━━━━━━━━━━━━━━━━━━━━━━━━━━━━\u001b[0m \u001b[32m1.7/1.7 MB\u001b[0m \u001b[31m41.6 MB/s\u001b[0m eta \u001b[36m0:00:00\u001b[0m\n",
            "\u001b[?25h  Installing build dependencies ... \u001b[?25l\u001b[?25hdone\n",
            "  Getting requirements to build wheel ... \u001b[?25l\u001b[?25hdone\n",
            "  Preparing metadata (pyproject.toml) ... \u001b[?25l\u001b[?25hdone\n",
            "Collecting pytools>=2011.2 (from pycuda)\n",
            "  Downloading pytools-2024.1.21-py3-none-any.whl.metadata (2.9 kB)\n",
            "Requirement already satisfied: platformdirs>=2.2.0 in /usr/local/lib/python3.10/dist-packages (from pycuda) (4.3.6)\n",
            "Collecting mako (from pycuda)\n",
            "  Downloading Mako-1.3.8-py3-none-any.whl.metadata (2.9 kB)\n",
            "Requirement already satisfied: typing-extensions>=4.5 in /usr/local/lib/python3.10/dist-packages (from pytools>=2011.2->pycuda) (4.12.2)\n",
            "Requirement already satisfied: MarkupSafe>=0.9.2 in /usr/local/lib/python3.10/dist-packages (from mako->pycuda) (3.0.2)\n",
            "Downloading pytools-2024.1.21-py3-none-any.whl (92 kB)\n",
            "\u001b[2K   \u001b[90m━━━━━━━━━━━━━━━━━━━━━━━━━━━━━━━━━━━━━━━━\u001b[0m \u001b[32m92.4/92.4 kB\u001b[0m \u001b[31m8.8 MB/s\u001b[0m eta \u001b[36m0:00:00\u001b[0m\n",
            "\u001b[?25hDownloading Mako-1.3.8-py3-none-any.whl (78 kB)\n",
            "\u001b[2K   \u001b[90m━━━━━━━━━━━━━━━━━━━━━━━━━━━━━━━━━━━━━━━━\u001b[0m \u001b[32m78.6/78.6 kB\u001b[0m \u001b[31m8.1 MB/s\u001b[0m eta \u001b[36m0:00:00\u001b[0m\n",
            "\u001b[?25hBuilding wheels for collected packages: pycuda\n",
            "  Building wheel for pycuda (pyproject.toml) ... \u001b[?25l\u001b[?25hdone\n",
            "  Created wheel for pycuda: filename=pycuda-2024.1.2-cp310-cp310-linux_x86_64.whl size=660545 sha256=6aa9c45783dd9f1ade345020f4ede632060a35de1ada8526ffe333eda5e7b0a3\n",
            "  Stored in directory: /root/.cache/pip/wheels/70/63/40/4bf006182f942d3516b71bb2ff3b57ccbdb8b2c0ee81882b6e\n",
            "Successfully built pycuda\n",
            "Installing collected packages: pytools, mako, pycuda\n",
            "Successfully installed mako-1.3.8 pycuda-2024.1.2 pytools-2024.1.21\n"
          ]
        }
      ],
      "source": [
        "!pip install pycuda"
      ]
    },
    {
      "cell_type": "markdown",
      "source": [
        "## GPU Demo Example:\n",
        "from [pycuda demo](https://github.com/inducer/pycuda/blob/main/examples/demo.py)\n",
        "\n",
        "##### Sample source code from the Tutorial Introduction in the documentation."
      ],
      "metadata": {
        "id": "PjJPVlZXo-Pj"
      }
    },
    {
      "cell_type": "code",
      "source": [
        "import pycuda.driver as cuda\n",
        "import pycuda.autoinit  # noqa\n",
        "from pycuda.compiler import SourceModule"
      ],
      "metadata": {
        "id": "p6J6PXhAr-0-"
      },
      "execution_count": 5,
      "outputs": []
    },
    {
      "cell_type": "code",
      "source": [
        "import numpy"
      ],
      "metadata": {
        "id": "AJXmghpcspeP"
      },
      "execution_count": 6,
      "outputs": []
    },
    {
      "cell_type": "code",
      "source": [
        "a = numpy.random.randn(4, 4)\n",
        "\n",
        "a = a.astype(numpy.float32)\n",
        "\n",
        "a_gpu = cuda.mem_alloc(a.size * a.dtype.itemsize)\n",
        "\n",
        "cuda.memcpy_htod(a_gpu, a)\n",
        "\n",
        "mod = SourceModule(\"\"\"\n",
        "    __global__ void doublify(float *a)\n",
        "    {\n",
        "      int idx = threadIdx.x + threadIdx.y*4;\n",
        "      a[idx] *= 2;\n",
        "    }\n",
        "    \"\"\")\n",
        "\n",
        "func = mod.get_function(\"doublify\")\n",
        "func(a_gpu, block=(4, 4, 1), grid=(1, 1), shared=0)\n",
        "\n",
        "a_doubled = numpy.empty_like(a)\n",
        "cuda.memcpy_dtoh(a_doubled, a_gpu)\n",
        "print(\"original array:\")\n",
        "print(a)\n",
        "print(\"doubled with kernel:\")\n",
        "print(a_doubled)"
      ],
      "metadata": {
        "id": "irIW6nb4s3Fv",
        "outputId": "bbccb7ba-4eda-48d0-b19d-d0ff8ce454b7",
        "colab": {
          "base_uri": "https://localhost:8080/"
        }
      },
      "execution_count": 7,
      "outputs": [
        {
          "output_type": "stream",
          "name": "stdout",
          "text": [
            "original array:\n",
            "[[-1.620548    0.13879654  0.96574795  1.1577861 ]\n",
            " [ 0.04036034  0.42371148  0.7621992  -2.2119262 ]\n",
            " [ 1.2848102   0.33688763  1.0071028   0.3925474 ]\n",
            " [-0.5067073  -0.34551117  0.70004815 -0.9857577 ]]\n",
            "doubled with kernel:\n",
            "[[-3.241096    0.27759308  1.9314959   2.3155723 ]\n",
            " [ 0.08072069  0.84742296  1.5243984  -4.4238524 ]\n",
            " [ 2.5696204   0.67377526  2.0142057   0.7850948 ]\n",
            " [-1.0134146  -0.69102234  1.4000963  -1.9715154 ]]\n"
          ]
        }
      ]
    },
    {
      "cell_type": "markdown",
      "source": [
        "#### alternate kernel invocation -------------------------------------------------"
      ],
      "metadata": {
        "id": "pV0ueVHps777"
      }
    },
    {
      "cell_type": "code",
      "source": [
        "func(cuda.InOut(a), block=(4, 4, 1))\n",
        "print(\"doubled with InOut:\")\n",
        "print(a)"
      ],
      "metadata": {
        "id": "pTO73uoQtD1n",
        "outputId": "33a6c4fb-cb3a-4e68-9288-29c5120fe4e9",
        "colab": {
          "base_uri": "https://localhost:8080/"
        }
      },
      "execution_count": 8,
      "outputs": [
        {
          "output_type": "stream",
          "name": "stdout",
          "text": [
            "doubled with InOut:\n",
            "[[-3.241096    0.27759308  1.9314959   2.3155723 ]\n",
            " [ 0.08072069  0.84742296  1.5243984  -4.4238524 ]\n",
            " [ 2.5696204   0.67377526  2.0142057   0.7850948 ]\n",
            " [-1.0134146  -0.69102234  1.4000963  -1.9715154 ]]\n"
          ]
        }
      ]
    },
    {
      "cell_type": "markdown",
      "source": [
        "## Dump Device Properties\n",
        "from [URL](https://github.com/inducer/pycuda/blob/main/examples/dump_properties.py)"
      ],
      "metadata": {
        "id": "3Nhns9kowLzT"
      }
    },
    {
      "cell_type": "code",
      "source": [
        "import pycuda.driver as drv\n",
        "\n",
        "drv.init()\n",
        "print(\"%d device(s) found.\" % drv.Device.count())"
      ],
      "metadata": {
        "id": "qUZe4rspvreE",
        "outputId": "4f0f0b99-fde1-497a-b5b9-319a13a74db6",
        "colab": {
          "base_uri": "https://localhost:8080/"
        }
      },
      "execution_count": 10,
      "outputs": [
        {
          "output_type": "stream",
          "name": "stdout",
          "text": [
            "1 device(s) found.\n"
          ]
        }
      ]
    },
    {
      "cell_type": "code",
      "source": [
        "## List device capability\n",
        "for ordinal in range(drv.Device.count()):\n",
        "    dev = drv.Device(ordinal)\n",
        "    print(\"Device #%d: %s\" % (ordinal, dev.name()))\n",
        "    print(\"  Compute Capability: %d.%d\" % dev.compute_capability())\n",
        "    print(\"  Total Memory: %s KB\" % (dev.total_memory()//(1024)))\n",
        "    atts = [(str(att), value)\n",
        "            for att, value in list(dev.get_attributes().items())]\n",
        "    atts.sort()\n",
        "\n",
        "    for att, value in atts:\n",
        "        print(f\"  {att}: {value}\")"
      ],
      "metadata": {
        "id": "ip6Uzhsmva9V",
        "outputId": "f8d08f32-b441-4186-8068-dabf92115333",
        "colab": {
          "base_uri": "https://localhost:8080/"
        }
      },
      "execution_count": 11,
      "outputs": [
        {
          "output_type": "stream",
          "name": "stdout",
          "text": [
            "Device #0: Tesla T4\n",
            "  Compute Capability: 7.5\n",
            "  Total Memory: 15464512 KB\n",
            "  ASYNC_ENGINE_COUNT: 3\n",
            "  CAN_MAP_HOST_MEMORY: 1\n",
            "  CAN_USE_HOST_POINTER_FOR_REGISTERED_MEM: 1\n",
            "  CLOCK_RATE: 1590000\n",
            "  COMPUTE_CAPABILITY_MAJOR: 7\n",
            "  COMPUTE_CAPABILITY_MINOR: 5\n",
            "  COMPUTE_MODE: DEFAULT\n",
            "  COMPUTE_PREEMPTION_SUPPORTED: 1\n",
            "  CONCURRENT_KERNELS: 1\n",
            "  CONCURRENT_MANAGED_ACCESS: 1\n",
            "  DIRECT_MANAGED_MEM_ACCESS_FROM_HOST: 0\n",
            "  ECC_ENABLED: 1\n",
            "  GENERIC_COMPRESSION_SUPPORTED: 0\n",
            "  GLOBAL_L1_CACHE_SUPPORTED: 1\n",
            "  GLOBAL_MEMORY_BUS_WIDTH: 256\n",
            "  GPU_OVERLAP: 1\n",
            "  HANDLE_TYPE_POSIX_FILE_DESCRIPTOR_SUPPORTED: 1\n",
            "  HANDLE_TYPE_WIN32_HANDLE_SUPPORTED: 0\n",
            "  HANDLE_TYPE_WIN32_KMT_HANDLE_SUPPORTED: 0\n",
            "  HOST_NATIVE_ATOMIC_SUPPORTED: 0\n",
            "  INTEGRATED: 0\n",
            "  KERNEL_EXEC_TIMEOUT: 0\n",
            "  L2_CACHE_SIZE: 4194304\n",
            "  LOCAL_L1_CACHE_SUPPORTED: 1\n",
            "  MANAGED_MEMORY: 1\n",
            "  MAXIMUM_SURFACE1D_LAYERED_LAYERS: 2048\n",
            "  MAXIMUM_SURFACE1D_LAYERED_WIDTH: 32768\n",
            "  MAXIMUM_SURFACE1D_WIDTH: 32768\n",
            "  MAXIMUM_SURFACE2D_HEIGHT: 65536\n",
            "  MAXIMUM_SURFACE2D_LAYERED_HEIGHT: 32768\n",
            "  MAXIMUM_SURFACE2D_LAYERED_LAYERS: 2048\n",
            "  MAXIMUM_SURFACE2D_LAYERED_WIDTH: 32768\n",
            "  MAXIMUM_SURFACE2D_WIDTH: 131072\n",
            "  MAXIMUM_SURFACE3D_DEPTH: 16384\n",
            "  MAXIMUM_SURFACE3D_HEIGHT: 16384\n",
            "  MAXIMUM_SURFACE3D_WIDTH: 16384\n",
            "  MAXIMUM_SURFACECUBEMAP_LAYERED_LAYERS: 2046\n",
            "  MAXIMUM_SURFACECUBEMAP_LAYERED_WIDTH: 32768\n",
            "  MAXIMUM_SURFACECUBEMAP_WIDTH: 32768\n",
            "  MAXIMUM_TEXTURE1D_LAYERED_LAYERS: 2048\n",
            "  MAXIMUM_TEXTURE1D_LAYERED_WIDTH: 32768\n",
            "  MAXIMUM_TEXTURE1D_LINEAR_WIDTH: 268435456\n",
            "  MAXIMUM_TEXTURE1D_MIPMAPPED_WIDTH: 32768\n",
            "  MAXIMUM_TEXTURE1D_WIDTH: 131072\n",
            "  MAXIMUM_TEXTURE2D_ARRAY_HEIGHT: 32768\n",
            "  MAXIMUM_TEXTURE2D_ARRAY_NUMSLICES: 2048\n",
            "  MAXIMUM_TEXTURE2D_ARRAY_WIDTH: 32768\n",
            "  MAXIMUM_TEXTURE2D_GATHER_HEIGHT: 32768\n",
            "  MAXIMUM_TEXTURE2D_GATHER_WIDTH: 32768\n",
            "  MAXIMUM_TEXTURE2D_HEIGHT: 65536\n",
            "  MAXIMUM_TEXTURE2D_LINEAR_HEIGHT: 65000\n",
            "  MAXIMUM_TEXTURE2D_LINEAR_PITCH: 2097120\n",
            "  MAXIMUM_TEXTURE2D_LINEAR_WIDTH: 131072\n",
            "  MAXIMUM_TEXTURE2D_MIPMAPPED_HEIGHT: 32768\n",
            "  MAXIMUM_TEXTURE2D_MIPMAPPED_WIDTH: 32768\n",
            "  MAXIMUM_TEXTURE2D_WIDTH: 131072\n",
            "  MAXIMUM_TEXTURE3D_DEPTH: 16384\n",
            "  MAXIMUM_TEXTURE3D_DEPTH_ALTERNATE: 32768\n",
            "  MAXIMUM_TEXTURE3D_HEIGHT: 16384\n",
            "  MAXIMUM_TEXTURE3D_HEIGHT_ALTERNATE: 8192\n",
            "  MAXIMUM_TEXTURE3D_WIDTH: 16384\n",
            "  MAXIMUM_TEXTURE3D_WIDTH_ALTERNATE: 8192\n",
            "  MAXIMUM_TEXTURECUBEMAP_LAYERED_LAYERS: 2046\n",
            "  MAXIMUM_TEXTURECUBEMAP_LAYERED_WIDTH: 32768\n",
            "  MAXIMUM_TEXTURECUBEMAP_WIDTH: 32768\n",
            "  MAX_BLOCKS_PER_MULTIPROCESSOR: 16\n",
            "  MAX_BLOCK_DIM_X: 1024\n",
            "  MAX_BLOCK_DIM_Y: 1024\n",
            "  MAX_BLOCK_DIM_Z: 64\n",
            "  MAX_GRID_DIM_X: 2147483647\n",
            "  MAX_GRID_DIM_Y: 65535\n",
            "  MAX_GRID_DIM_Z: 65535\n",
            "  MAX_PERSISTING_L2_CACHE_SIZE: 0\n",
            "  MAX_PITCH: 2147483647\n",
            "  MAX_REGISTERS_PER_BLOCK: 65536\n",
            "  MAX_REGISTERS_PER_MULTIPROCESSOR: 65536\n",
            "  MAX_SHARED_MEMORY_PER_BLOCK: 49152\n",
            "  MAX_SHARED_MEMORY_PER_BLOCK_OPTIN: 65536\n",
            "  MAX_SHARED_MEMORY_PER_MULTIPROCESSOR: 65536\n",
            "  MAX_THREADS_PER_BLOCK: 1024\n",
            "  MAX_THREADS_PER_MULTIPROCESSOR: 1024\n",
            "  MEMORY_CLOCK_RATE: 5001000\n",
            "  MEMORY_POOLS_SUPPORTED: 1\n",
            "  MULTIPROCESSOR_COUNT: 40\n",
            "  MULTI_GPU_BOARD: 0\n",
            "  MULTI_GPU_BOARD_GROUP_ID: 0\n",
            "  PAGEABLE_MEMORY_ACCESS: 0\n",
            "  PAGEABLE_MEMORY_ACCESS_USES_HOST_PAGE_TABLES: 0\n",
            "  PCI_BUS_ID: 0\n",
            "  PCI_DEVICE_ID: 4\n",
            "  PCI_DOMAIN_ID: 0\n",
            "  READ_ONLY_HOST_REGISTER_SUPPORTED: 1\n",
            "  RESERVED_SHARED_MEMORY_PER_BLOCK: 0\n",
            "  SINGLE_TO_DOUBLE_PRECISION_PERF_RATIO: 32\n",
            "  STREAM_PRIORITIES_SUPPORTED: 1\n",
            "  SURFACE_ALIGNMENT: 512\n",
            "  TCC_DRIVER: 0\n",
            "  TEXTURE_ALIGNMENT: 512\n",
            "  TEXTURE_PITCH_ALIGNMENT: 32\n",
            "  TOTAL_CONSTANT_MEMORY: 65536\n",
            "  UNIFIED_ADDRESSING: 1\n",
            "  WARP_SIZE: 32\n"
          ]
        }
      ]
    }
  ]
}