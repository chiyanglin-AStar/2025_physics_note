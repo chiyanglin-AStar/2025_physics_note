{
  "nbformat": 4,
  "nbformat_minor": 0,
  "metadata": {
    "colab": {
      "provenance": [],
      "gpuType": "T4",
      "authorship_tag": "ABX9TyN0IdgFDAEPGZtpTEIXCqO3",
      "include_colab_link": true
    },
    "kernelspec": {
      "name": "python3",
      "display_name": "Python 3"
    },
    "language_info": {
      "name": "python"
    },
    "accelerator": "GPU"
  },
  "cells": [
    {
      "cell_type": "markdown",
      "metadata": {
        "id": "view-in-github",
        "colab_type": "text"
      },
      "source": [
        "<a href=\"https://colab.research.google.com/github/chiyanglin-AStar/2025_physics_note/blob/main/02_Pycuda_ex6.ipynb\" target=\"_parent\"><img src=\"https://colab.research.google.com/assets/colab-badge.svg\" alt=\"Open In Colab\"/></a>"
      ]
    },
    {
      "cell_type": "markdown",
      "source": [
        "This notebook is reference from [Linking Python to CUDA with PyCUDA: A Beginner’s Guide](https://medium.com/@mahmoudalyosify/linking-python-to-cuda-with-pycuda-a-beginners-guide-d128da0ed460)"
      ],
      "metadata": {
        "id": "TYkCCYwQ6CAy"
      }
    },
    {
      "cell_type": "markdown",
      "source": [
        "## PyCUDA ref:\n",
        "\n",
        "[PyCUDA Tutorial(翻譯)](https://hackmd.io/@shaoeChen/SkbmZOXbB/https%3A%2F%2Fhackmd.io%2F%40shaoeChen%2FSkKb0fX-H)\n",
        "\n",
        "[pycuda tutorial](https://documen.tician.de/pycuda/tutorial.html)\n",
        "\n",
        "[PyCUDA Tutorial Introduction](https://github.com/berlinguyinca/pycuda/blob/master/doc/source/tutorial.rst)\n",
        "\n",
        "[GPU程式設計(5) -- Python](https://ithelp.ithome.com.tw/articles/10283144)"
      ],
      "metadata": {
        "id": "eHxi2lduBmsJ"
      }
    },
    {
      "cell_type": "code",
      "execution_count": 1,
      "metadata": {
        "colab": {
          "base_uri": "https://localhost:8080/"
        },
        "id": "ccx8W2s96AUX",
        "outputId": "3a442cb1-1146-4bc0-8be2-5da0d5b66049"
      },
      "outputs": [
        {
          "output_type": "stream",
          "name": "stdout",
          "text": [
            "Collecting pycuda\n",
            "  Downloading pycuda-2024.1.2.tar.gz (1.7 MB)\n",
            "\u001b[?25l     \u001b[90m━━━━━━━━━━━━━━━━━━━━━━━━━━━━━━━━━━━━━━━━\u001b[0m \u001b[32m0.0/1.7 MB\u001b[0m \u001b[31m?\u001b[0m eta \u001b[36m-:--:--\u001b[0m\r\u001b[2K     \u001b[91m━━━━━━━\u001b[0m\u001b[90m╺\u001b[0m\u001b[90m━━━━━━━━━━━━━━━━━━━━━━━━━━━━━━━━\u001b[0m \u001b[32m0.3/1.7 MB\u001b[0m \u001b[31m8.6 MB/s\u001b[0m eta \u001b[36m0:00:01\u001b[0m\r\u001b[2K     \u001b[91m━━━━━━━━━━━━━━━━━━━━━━━━━━━━━━━━━━━━━━━\u001b[0m\u001b[91m╸\u001b[0m \u001b[32m1.7/1.7 MB\u001b[0m \u001b[31m28.4 MB/s\u001b[0m eta \u001b[36m0:00:01\u001b[0m\r\u001b[2K     \u001b[90m━━━━━━━━━━━━━━━━━━━━━━━━━━━━━━━━━━━━━━━━\u001b[0m \u001b[32m1.7/1.7 MB\u001b[0m \u001b[31m20.8 MB/s\u001b[0m eta \u001b[36m0:00:00\u001b[0m\n",
            "\u001b[?25h  Installing build dependencies ... \u001b[?25l\u001b[?25hdone\n",
            "  Getting requirements to build wheel ... \u001b[?25l\u001b[?25hdone\n",
            "  Preparing metadata (pyproject.toml) ... \u001b[?25l\u001b[?25hdone\n",
            "Collecting pytools>=2011.2 (from pycuda)\n",
            "  Downloading pytools-2024.1.21-py3-none-any.whl.metadata (2.9 kB)\n",
            "Requirement already satisfied: platformdirs>=2.2.0 in /usr/local/lib/python3.10/dist-packages (from pycuda) (4.3.6)\n",
            "Collecting mako (from pycuda)\n",
            "  Downloading Mako-1.3.8-py3-none-any.whl.metadata (2.9 kB)\n",
            "Requirement already satisfied: typing-extensions>=4.5 in /usr/local/lib/python3.10/dist-packages (from pytools>=2011.2->pycuda) (4.12.2)\n",
            "Requirement already satisfied: MarkupSafe>=0.9.2 in /usr/local/lib/python3.10/dist-packages (from mako->pycuda) (3.0.2)\n",
            "Downloading pytools-2024.1.21-py3-none-any.whl (92 kB)\n",
            "\u001b[2K   \u001b[90m━━━━━━━━━━━━━━━━━━━━━━━━━━━━━━━━━━━━━━━━\u001b[0m \u001b[32m92.4/92.4 kB\u001b[0m \u001b[31m9.2 MB/s\u001b[0m eta \u001b[36m0:00:00\u001b[0m\n",
            "\u001b[?25hDownloading Mako-1.3.8-py3-none-any.whl (78 kB)\n",
            "\u001b[2K   \u001b[90m━━━━━━━━━━━━━━━━━━━━━━━━━━━━━━━━━━━━━━━━\u001b[0m \u001b[32m78.6/78.6 kB\u001b[0m \u001b[31m7.6 MB/s\u001b[0m eta \u001b[36m0:00:00\u001b[0m\n",
            "\u001b[?25hBuilding wheels for collected packages: pycuda\n",
            "  Building wheel for pycuda (pyproject.toml) ... \u001b[?25l\u001b[?25hdone\n",
            "  Created wheel for pycuda: filename=pycuda-2024.1.2-cp310-cp310-linux_x86_64.whl size=660545 sha256=f0291f7a23aa9570b2d717627679f9bcd849016a4c13d7fe3f4fad5fa31c6361\n",
            "  Stored in directory: /root/.cache/pip/wheels/70/63/40/4bf006182f942d3516b71bb2ff3b57ccbdb8b2c0ee81882b6e\n",
            "Successfully built pycuda\n",
            "Installing collected packages: pytools, mako, pycuda\n",
            "Successfully installed mako-1.3.8 pycuda-2024.1.2 pytools-2024.1.21\n"
          ]
        }
      ],
      "source": [
        "!pip install pycuda"
      ]
    },
    {
      "cell_type": "markdown",
      "source": [
        "## PyCuda draw triangle"
      ],
      "metadata": {
        "id": "a9RfXD6PgdSX"
      }
    },
    {
      "cell_type": "code",
      "source": [
        "import pycuda.driver as drv\n",
        "import pycuda.autoinit\n",
        "import pycuda.gl\n",
        "import numpy as np\n",
        "from OpenGL.GL import *\n",
        "from OpenGL.GLUT import *\n",
        "from OpenGL.GLU import *\n",
        "import glfw\n",
        "\n",
        "# Vertex data for a 3D Triangle\n",
        "vertex_data = np.array([\n",
        "    # Position (x, y, z)        Color (r, g, b)\n",
        "     0.0,  1.0,  0.0,           1.0, 0.0, 0.0,  # Top vertex (red)\n",
        "    -1.0, -1.0,  0.0,           0.0, 1.0, 0.0,  # Bottom left (green)\n",
        "     1.0, -1.0,  0.0,           0.0, 0.0, 1.0   # Bottom right (blue)\n",
        "], dtype=np.float32)\n",
        "\n",
        "# Global variable for Vertex Buffer Object (VBO)\n",
        "vbo = None\n",
        "\n",
        "def init_vbo():\n",
        "    global vbo\n",
        "    # Generate a Vertex Buffer Object\n",
        "    vbo = glGenBuffers(1)\n",
        "    glBindBuffer(GL_ARRAY_BUFFER, vbo)\n",
        "\n",
        "    # Upload data to the GPU using PyCUDA\n",
        "    pycuda.gl.autoinit\n",
        "    cuda_vbo = pycuda.gl.RegisteredBuffer(int(vbo), pycuda.gl.graphics_map_flags.WRITE_DISCARD)\n",
        "    mapped_buffer = cuda_vbo.map()\n",
        "\n",
        "    # Copy vertex data to the mapped buffer\n",
        "    mapped_buffer_array = np.array(mapped_buffer, copy=False)\n",
        "    mapped_buffer_array[:len(vertex_data)] = vertex_data\n",
        "\n",
        "    # Unmap the buffer\n",
        "    mapped_buffer.unmap()\n",
        "    cuda_vbo.unregister()\n",
        "    glBindBuffer(GL_ARRAY_BUFFER, 0)\n",
        "\n",
        "def display():\n",
        "    glClear(GL_COLOR_BUFFER_BIT | GL_DEPTH_BUFFER_BIT)\n",
        "    glLoadIdentity()\n",
        "    gluLookAt(0, 0, 5, 0, 0, 0, 0, 1, 0)\n",
        "\n",
        "    # Enable vertex attributes\n",
        "    glBindBuffer(GL_ARRAY_BUFFER, vbo)\n",
        "    glEnableClientState(GL_VERTEX_ARRAY)\n",
        "    glEnableClientState(GL_COLOR_ARRAY)\n",
        "\n",
        "    # Define pointer to vertex and color data\n",
        "    glVertexPointer(3, GL_FLOAT, 24, ctypes.c_void_p(0))\n",
        "    glColorPointer(3, GL_FLOAT, 24, ctypes.c_void_p(12))\n",
        "\n",
        "    # Draw the triangle\n",
        "    glDrawArrays(GL_TRIANGLES, 0, 3)\n",
        "\n",
        "    # Disable states\n",
        "    glDisableClientState(GL_VERTEX_ARRAY)\n",
        "    glDisableClientState(GL_COLOR_ARRAY)\n",
        "    glBindBuffer(GL_ARRAY_BUFFER, 0)\n",
        "\n",
        "    glfw.swap_buffers(window)\n",
        "\n",
        "def reshape(width, height):\n",
        "    glViewport(0, 0, width, height)\n",
        "    glMatrixMode(GL_PROJECTION)\n",
        "    glLoadIdentity()\n",
        "    gluPerspective(45, width / height, 1, 100)\n",
        "    glMatrixMode(GL_MODELVIEW)\n",
        "    glLoadIdentity()\n",
        "\n",
        "def main():\n",
        "    global window\n",
        "    if not glfw.init():\n",
        "        return\n",
        "\n",
        "    window = glfw.create_window(800, 600, \"3D Triangle with PyCUDA and OpenGL\", None, None)\n",
        "    if not window:\n",
        "        glfw.terminate()\n",
        "        return\n",
        "\n",
        "    glfw.make_context_current(window)\n",
        "    glEnable(GL_DEPTH_TEST)\n",
        "    init_vbo()\n",
        "\n",
        "    while not glfw.window_should_close(window):\n",
        "        display()\n",
        "        glfw.poll_events()\n",
        "\n",
        "    glfw.terminate()\n",
        "\n",
        "if __name__ == \"__main__\":\n",
        "    main()\n"
      ],
      "metadata": {
        "id": "h0wEZBO7gkyC",
        "outputId": "6469d39b-dcc1-457c-db55-4d861bb14c50",
        "colab": {
          "base_uri": "https://localhost:8080/",
          "height": 505
        }
      },
      "execution_count": 2,
      "outputs": [
        {
          "output_type": "error",
          "ename": "ImportError",
          "evalue": "PyCUDA was compiled without GL extension support",
          "traceback": [
            "\u001b[0;31m---------------------------------------------------------------------------\u001b[0m",
            "\u001b[0;31mImportError\u001b[0m                               Traceback (most recent call last)",
            "\u001b[0;32m<ipython-input-2-a8697cdc168d>\u001b[0m in \u001b[0;36m<cell line: 3>\u001b[0;34m()\u001b[0m\n\u001b[1;32m      1\u001b[0m \u001b[0;32mimport\u001b[0m \u001b[0mpycuda\u001b[0m\u001b[0;34m.\u001b[0m\u001b[0mdriver\u001b[0m \u001b[0;32mas\u001b[0m \u001b[0mdrv\u001b[0m\u001b[0;34m\u001b[0m\u001b[0;34m\u001b[0m\u001b[0m\n\u001b[1;32m      2\u001b[0m \u001b[0;32mimport\u001b[0m \u001b[0mpycuda\u001b[0m\u001b[0;34m.\u001b[0m\u001b[0mautoinit\u001b[0m\u001b[0;34m\u001b[0m\u001b[0;34m\u001b[0m\u001b[0m\n\u001b[0;32m----> 3\u001b[0;31m \u001b[0;32mimport\u001b[0m \u001b[0mpycuda\u001b[0m\u001b[0;34m.\u001b[0m\u001b[0mgl\u001b[0m\u001b[0;34m\u001b[0m\u001b[0;34m\u001b[0m\u001b[0m\n\u001b[0m\u001b[1;32m      4\u001b[0m \u001b[0;32mimport\u001b[0m \u001b[0mnumpy\u001b[0m \u001b[0;32mas\u001b[0m \u001b[0mnp\u001b[0m\u001b[0;34m\u001b[0m\u001b[0;34m\u001b[0m\u001b[0m\n\u001b[1;32m      5\u001b[0m \u001b[0;32mfrom\u001b[0m \u001b[0mOpenGL\u001b[0m\u001b[0;34m.\u001b[0m\u001b[0mGL\u001b[0m \u001b[0;32mimport\u001b[0m \u001b[0;34m*\u001b[0m\u001b[0;34m\u001b[0m\u001b[0;34m\u001b[0m\u001b[0m\n",
            "\u001b[0;32m/usr/local/lib/python3.10/dist-packages/pycuda/gl/__init__.py\u001b[0m in \u001b[0;36m<module>\u001b[0;34m\u001b[0m\n\u001b[1;32m      3\u001b[0m \u001b[0;34m\u001b[0m\u001b[0m\n\u001b[1;32m      4\u001b[0m \u001b[0;32mif\u001b[0m \u001b[0;32mnot\u001b[0m \u001b[0m_drv\u001b[0m\u001b[0;34m.\u001b[0m\u001b[0mhave_gl_ext\u001b[0m\u001b[0;34m(\u001b[0m\u001b[0;34m)\u001b[0m\u001b[0;34m:\u001b[0m\u001b[0;34m\u001b[0m\u001b[0;34m\u001b[0m\u001b[0m\n\u001b[0;32m----> 5\u001b[0;31m     \u001b[0;32mraise\u001b[0m \u001b[0mImportError\u001b[0m\u001b[0;34m(\u001b[0m\u001b[0;34m\"PyCUDA was compiled without GL extension support\"\u001b[0m\u001b[0;34m)\u001b[0m\u001b[0;34m\u001b[0m\u001b[0;34m\u001b[0m\u001b[0m\n\u001b[0m\u001b[1;32m      6\u001b[0m \u001b[0;34m\u001b[0m\u001b[0m\n\u001b[1;32m      7\u001b[0m \u001b[0minit\u001b[0m \u001b[0;34m=\u001b[0m \u001b[0m_drv\u001b[0m\u001b[0;34m.\u001b[0m\u001b[0mgl_init\u001b[0m\u001b[0;34m\u001b[0m\u001b[0;34m\u001b[0m\u001b[0m\n",
            "\u001b[0;31mImportError\u001b[0m: PyCUDA was compiled without GL extension support",
            "",
            "\u001b[0;31m---------------------------------------------------------------------------\u001b[0;32m\nNOTE: If your import is failing due to a missing package, you can\nmanually install dependencies using either !pip or !apt.\n\nTo view examples of installing some common dependencies, click the\n\"Open Examples\" button below.\n\u001b[0;31m---------------------------------------------------------------------------\u001b[0m\n"
          ],
          "errorDetails": {
            "actions": [
              {
                "action": "open_url",
                "actionText": "Open Examples",
                "url": "/notebooks/snippets/importing_libraries.ipynb"
              }
            ]
          }
        }
      ]
    },
    {
      "cell_type": "markdown",
      "source": [
        "## GL interoperability example, by Peter Berrington.\n",
        "## Draws a rotating teapot, using cuda to invert the RGB value\n",
        "## each frame\n",
        "from [pycuda gl_interop](https://github.com/inducer/pycuda/blob/main/examples/from-wiki/gl_interop.py)\n"
      ],
      "metadata": {
        "id": "PjJPVlZXo-Pj"
      }
    },
    {
      "cell_type": "code",
      "source": [
        "from OpenGL.GL import *\n",
        "from OpenGL.GLUT import *\n",
        "from OpenGL.GLU import *\n",
        "from OpenGL.GL.ARB.vertex_buffer_object import *\n",
        "from OpenGL.GL.ARB.pixel_buffer_object import *"
      ],
      "metadata": {
        "id": "phGiweCe0Ujt"
      },
      "execution_count": 2,
      "outputs": []
    },
    {
      "cell_type": "code",
      "source": [
        "import numpy, sys, time\n",
        "import pycuda.driver as cuda_driver\n",
        "#import pycuda.gl as cuda_gl\n",
        "from pycuda.compiler import SourceModule"
      ],
      "metadata": {
        "id": "mRjHvu2b0Wgz"
      },
      "execution_count": 4,
      "outputs": []
    },
    {
      "cell_type": "code",
      "source": [
        "#this is all munged together from the CUDA SDK postprocessGL example.\n",
        "\n",
        "initial_size = 512,512\n",
        "current_size = initial_size\n",
        "animate = True\n",
        "enable_cuda = True\n",
        "window = None     # Number of the glut window.\n",
        "time_of_last_draw = 0.0\n",
        "time_of_last_titleupdate = 0.0\n",
        "frames_per_second = 0.0\n",
        "frame_counter = 0\n",
        "output_texture = None # pointer to offscreen render target\n",
        "(source_pbo, dest_pbo, cuda_module, invert,\n",
        " pycuda_source_pbo, pycuda_dest_pbo) = [None]*6\n",
        "heading,pitch,bank = [0.0]*3"
      ],
      "metadata": {
        "id": "-KRDUpAW0fuo"
      },
      "execution_count": 5,
      "outputs": []
    },
    {
      "cell_type": "code",
      "source": [
        "def create_PBOs(w,h):\n",
        "    global source_pbo, dest_pbo, pycuda_source_pbo, pycuda_dest_pbo\n",
        "    num_texels = w*h\n",
        "    data = numpy.zeros((num_texels,4),numpy.uint8)\n",
        "    source_pbo = glGenBuffers(1)\n",
        "    glBindBuffer(GL_ARRAY_BUFFER, source_pbo)\n",
        "    glBufferData(GL_ARRAY_BUFFER, data, GL_DYNAMIC_DRAW)\n",
        "    glBindBuffer(GL_ARRAY_BUFFER, 0)\n",
        "    pycuda_source_pbo = cuda_gl.BufferObject(int(source_pbo))\n",
        "    dest_pbo = glGenBuffers(1)\n",
        "    glBindBuffer(GL_ARRAY_BUFFER, dest_pbo)\n",
        "    glBufferData(GL_ARRAY_BUFFER, data, GL_DYNAMIC_DRAW)\n",
        "    glBindBuffer(GL_ARRAY_BUFFER, 0)\n",
        "    pycuda_dest_pbo = cuda_gl.BufferObject(int(dest_pbo))\n",
        "\n",
        "def destroy_PBOs():\n",
        "    global source_pbo, dest_pbo, pycuda_source_pbo, pycuda_dest_pbo\n",
        "    for pbo in [source_pbo, dest_pbo]:\n",
        "        glBindBuffer(GL_ARRAY_BUFFER, int(pbo))\n",
        "        glDeleteBuffers(1, int(pbo))\n",
        "        glBindBuffer(GL_ARRAY_BUFFER, 0)\n",
        "    source_pbo,dest_pbo,pycuda_source_pbo,pycuda_dest_pbo = [None]*4\n",
        "\n",
        "def create_texture(w,h):\n",
        "    global output_texture\n",
        "    output_texture = glGenTextures(1)\n",
        "    glBindTexture(GL_TEXTURE_2D, output_texture)\n",
        "    # set basic parameters\n",
        "    glTexParameteri(GL_TEXTURE_2D, GL_TEXTURE_WRAP_S, GL_CLAMP_TO_EDGE)\n",
        "    glTexParameteri(GL_TEXTURE_2D, GL_TEXTURE_WRAP_T, GL_CLAMP_TO_EDGE)\n",
        "    glTexParameteri(GL_TEXTURE_2D, GL_TEXTURE_MIN_FILTER, GL_NEAREST)\n",
        "    glTexParameteri(GL_TEXTURE_2D, GL_TEXTURE_MAG_FILTER, GL_NEAREST)\n",
        "    # buffer data\n",
        "    glTexImage2D(GL_TEXTURE_2D, 0, GL_RGBA,\n",
        "                 w, h, 0, GL_RGBA, GL_UNSIGNED_BYTE, None)\n",
        "\n",
        "def destroy_texture():\n",
        "    global output_texture\n",
        "    glDeleteTextures(output_texture)\n",
        "    output_texture = None"
      ],
      "metadata": {
        "id": "HloZjGiV03Jb"
      },
      "execution_count": 6,
      "outputs": []
    },
    {
      "cell_type": "code",
      "source": [
        "def init_gl():\n",
        "    Width, Height = current_size\n",
        "    glClearColor(0.1, 0.1, 0.5, 1.0)\n",
        "    glDisable(GL_DEPTH_TEST)\n",
        "    glViewport(0, 0, Width, Height)\n",
        "    glMatrixMode(GL_PROJECTION)\n",
        "    glLoadIdentity()\n",
        "    gluPerspective(60.0, Width/float(Height), 0.1, 10.0)\n",
        "    glPolygonMode(GL_FRONT_AND_BACK, GL_FILL)\n",
        "    glEnable(GL_LIGHT0)\n",
        "    red   = ( 1.0, 0.1, 0.1, 1.0 )\n",
        "    white = ( 1.0, 1.0, 1.0, 1.0 )\n",
        "    glMaterialfv(GL_FRONT_AND_BACK, GL_DIFFUSE,  red  )\n",
        "    glMaterialfv(GL_FRONT_AND_BACK, GL_SPECULAR, white)\n",
        "    glMaterialf( GL_FRONT_AND_BACK, GL_SHININESS, 60.0)"
      ],
      "metadata": {
        "id": "oxc1_nao0_C2"
      },
      "execution_count": 7,
      "outputs": []
    },
    {
      "cell_type": "code",
      "source": [
        "def resize(Width, Height):\n",
        "    global current_size\n",
        "    current_size = Width, Height\n",
        "    glViewport(0, 0, Width, Height)        # Reset The Current Viewport And Perspective Transformation\n",
        "    glMatrixMode(GL_PROJECTION)\n",
        "    glLoadIdentity()\n",
        "    gluPerspective(60.0, Width/float(Height), 0.1, 10.0)\n",
        "\n",
        "def do_tick():\n",
        "    global time_of_last_titleupdate, frame_counter, frames_per_second\n",
        "    if ((time.clock () * 1000.0) - time_of_last_titleupdate >= 1000.):\n",
        "        frames_per_second = frame_counter                   # Save The FPS\n",
        "        frame_counter = 0  # Reset The FPS Counter\n",
        "        szTitle = \"%d FPS\" % (frames_per_second )\n",
        "        glutSetWindowTitle ( szTitle )\n",
        "        time_of_last_titleupdate = time.clock () * 1000.0\n",
        "    frame_counter += 1\n",
        "\n",
        "# The function called whenever a key is pressed. Note the use of Python tuples to pass in: (key, x, y)\n",
        "def keyPressed(*args):\n",
        "    global animate, enable_cuda\n",
        "    # If escape is pressed, kill everything.\n",
        "    if args[0] == '\\033':\n",
        "        print('Closing..')\n",
        "        destroy_PBOs()\n",
        "        destroy_texture()\n",
        "        exit()\n",
        "    elif args[0] == 'a':\n",
        "        print('toggling animation')\n",
        "        animate = not animate\n",
        "    elif args[0] == 'e':\n",
        "        print('toggling cuda')\n",
        "        enable_cuda = not enable_cuda\n",
        "\n",
        "def idle():\n",
        "    global heading, pitch, bank\n",
        "    if animate:\n",
        "        heading += 0.2\n",
        "        pitch   += 0.6\n",
        "        bank    += 1.0\n",
        "\n",
        "    glutPostRedisplay()\n",
        "\n",
        "def display():\n",
        "    try:\n",
        "        render_scene()\n",
        "        if enable_cuda:\n",
        "            process_image()\n",
        "            display_image()\n",
        "        glutSwapBuffers()\n",
        "    except:\n",
        "        from traceback import print_exc\n",
        "        print_exc()\n",
        "        from os import _exit\n",
        "        _exit(0)\n",
        "\n",
        "def process(width, height):\n",
        "    \"\"\" Use PyCuda \"\"\"\n",
        "    grid_dimensions   = (width//16,height//16)\n",
        "\n",
        "    source_mapping = pycuda_source_pbo.map()\n",
        "    dest_mapping   = pycuda_dest_pbo.map()\n",
        "\n",
        "    invert.prepared_call(grid_dimensions, (16, 16, 1),\n",
        "            source_mapping.device_ptr(),\n",
        "            dest_mapping.device_ptr())\n",
        "\n",
        "    cuda_driver.Context.synchronize()\n",
        "\n",
        "    source_mapping.unmap()\n",
        "    dest_mapping.unmap()\n",
        "\n",
        "def process_image():\n",
        "    \"\"\" copy image and process using CUDA \"\"\"\n",
        "    global pycuda_source_pbo,source_pbo,current_size, dest_pbo\n",
        "    image_width, image_height = current_size\n",
        "    assert source_pbo is not None\n",
        "\n",
        "    # tell cuda we are going to get into these buffers\n",
        "    pycuda_source_pbo.unregister()\n",
        "\n",
        "    # activate destination buffer\n",
        "    glBindBufferARB(GL_PIXEL_PACK_BUFFER_ARB, int(source_pbo))\n",
        "\n",
        "    # read data into pbo. note: use BGRA format for optimal performance\n",
        "    glReadPixels(\n",
        "             0,                  #start x\n",
        "             0,                  #start y\n",
        "             image_width,        #end   x\n",
        "             image_height,       #end   y\n",
        "             GL_BGRA,            #format\n",
        "             GL_UNSIGNED_BYTE,   #output type\n",
        "             ctypes.c_void_p(0))\n",
        "\n",
        "    pycuda_source_pbo = cuda_gl.BufferObject(int(source_pbo))\n",
        "\n",
        "    # run the Cuda kernel\n",
        "    process(image_width, image_height)\n",
        "    # blit convolved texture onto the screen\n",
        "    # download texture from PBO\n",
        "    glBindBuffer(GL_PIXEL_UNPACK_BUFFER_ARB, int(dest_pbo))\n",
        "    glBindTexture(GL_TEXTURE_2D, output_texture)\n",
        "\n",
        "    glTexSubImage2D(GL_TEXTURE_2D, 0, 0, 0,\n",
        "                    image_width, image_height,\n",
        "                    GL_BGRA, GL_UNSIGNED_BYTE, ctypes.c_void_p(0))\n",
        "\n",
        "def display_image():\n",
        "    \"\"\" render a screen sized quad \"\"\"\n",
        "    glDisable(GL_DEPTH_TEST)\n",
        "    glDisable(GL_LIGHTING)\n",
        "    glEnable(GL_TEXTURE_2D)\n",
        "    glTexEnvf(GL_TEXTURE_ENV, GL_TEXTURE_ENV_MODE, GL_REPLACE)\n",
        "    glMatrixMode(GL_PROJECTION)\n",
        "    glPushMatrix()\n",
        "    glLoadIdentity()\n",
        "    glOrtho(-1.0, 1.0, -1.0, 1.0, -1.0, 1.0)\n",
        "    glMatrixMode( GL_MODELVIEW)\n",
        "    glLoadIdentity()\n",
        "    glViewport(0, 0, current_size[0], current_size[1])\n",
        "    glBegin(GL_QUADS)\n",
        "    glTexCoord2f(0.0, 0.0)\n",
        "    glVertex3f(-1.0, -1.0, 0.5)\n",
        "    glTexCoord2f(1.0, 0.0)\n",
        "    glVertex3f(1.0, -1.0, 0.5)\n",
        "    glTexCoord2f(1.0, 1.0)\n",
        "    glVertex3f(1.0, 1.0, 0.5)\n",
        "    glTexCoord2f(0.0, 1.0)\n",
        "    glVertex3f(-1.0, 1.0, 0.5)\n",
        "    glEnd()\n",
        "    glMatrixMode(GL_PROJECTION)\n",
        "    glPopMatrix()\n",
        "    glDisable(GL_TEXTURE_2D)\n",
        "    glBindBuffer(GL_PIXEL_PACK_BUFFER_ARB, 0)\n",
        "    glBindBuffer(GL_PIXEL_UNPACK_BUFFER_ARB, 0)\n",
        "\n",
        "\n",
        "def render_scene():\n",
        "    glClear (GL_COLOR_BUFFER_BIT | GL_DEPTH_BUFFER_BIT)# Clear Screen And Depth Buffer\n",
        "    glMatrixMode(GL_MODELVIEW)\n",
        "    glLoadIdentity ()      # Reset The Modelview Matrix\n",
        "    glTranslatef(0.0, 0.0, -3.0)\n",
        "    glRotatef(heading, 1.0, 0.0, 0.0)\n",
        "    glRotatef(pitch  , 0.0, 1.0, 0.0)\n",
        "    glRotatef(bank   , 0.0, 0.0, 1.0)\n",
        "    glViewport(0, 0, current_size[0],current_size[1])\n",
        "    glEnable(GL_LIGHTING)\n",
        "    glEnable(GL_DEPTH_TEST)\n",
        "    glDepthFunc(GL_LESS)\n",
        "    glutSolidTeapot(1.0)\n",
        "    do_tick()#just for fps display..\n",
        "    return True\n"
      ],
      "metadata": {
        "id": "AKo71Hqd1IqL"
      },
      "execution_count": 8,
      "outputs": []
    },
    {
      "cell_type": "code",
      "source": [
        "def main():\n",
        "    global window, cuda_module, cuda_gl, cuda_driver, invert\n",
        "    #glutInit(sys.argv)\n",
        "    #glutInitDisplayMode(GLUT_RGBA | GLUT_DOUBLE | GLUT_ALPHA | GLUT_DEPTH)\n",
        "    glutInitWindowSize(*initial_size)\n",
        "    glutInitWindowPosition(0, 0)\n",
        "    window = glutCreateWindow(\"PyCuda GL Interop Example\")\n",
        "    glutDisplayFunc(display)\n",
        "    glutIdleFunc(idle)\n",
        "    glutReshapeFunc(resize)\n",
        "    glutKeyboardFunc(keyPressed)\n",
        "    glutSpecialFunc(keyPressed)\n",
        "    init_gl()\n",
        "\n",
        "    # create texture for blitting to screen\n",
        "    create_texture(*initial_size)\n",
        "\n",
        "    #setup pycuda gl interop\n",
        "    import pycuda.gl.autoinit\n",
        "    import pycuda.gl\n",
        "    cuda_gl = pycuda.gl\n",
        "    cuda_driver = pycuda.driver\n",
        "\n",
        "    cuda_module = SourceModule(\"\"\"\n",
        "    __global__ void invert(unsigned char *source, unsigned char *dest)\n",
        "    {\n",
        "      int block_num        = blockIdx.x + blockIdx.y * gridDim.x;\n",
        "      int thread_num       = threadIdx.y * blockDim.x + threadIdx.x;\n",
        "      int threads_in_block = blockDim.x * blockDim.y;\n",
        "      //Since the image is RGBA we multiply the index 4.\n",
        "      //We'll only use the first 3 (RGB) channels though\n",
        "      int idx              = 4 * (threads_in_block * block_num + thread_num);\n",
        "      dest[idx  ] = 255 - source[idx  ];\n",
        "      dest[idx+1] = 255 - source[idx+1];\n",
        "      dest[idx+2] = 255 - source[idx+2];\n",
        "    }\n",
        "    \"\"\")\n",
        "    invert = cuda_module.get_function(\"invert\")\n",
        "    # The argument \"PP\" indicates that the invert function will take two PBOs as arguments\n",
        "    invert.prepare(\"PP\")\n",
        "\n",
        "    # create source and destination pixel buffer objects for processing\n",
        "    create_PBOs(*initial_size)\n",
        "\n",
        "    glutMainLoop()\n",
        "\n",
        "# Print message to console, and kick off the main to get it rolling.\n",
        "if __name__ == \"__main__\":\n",
        "    print(\"Hit ESC key to quit, 'a' to toggle animation, and 'e' to toggle cuda\")\n",
        "    main()"
      ],
      "metadata": {
        "id": "BWABdrfB1SO8",
        "outputId": "cbbd2a54-5697-4b93-81a4-ef467f906c49",
        "colab": {
          "base_uri": "https://localhost:8080/",
          "height": 339
        }
      },
      "execution_count": 11,
      "outputs": [
        {
          "output_type": "stream",
          "name": "stdout",
          "text": [
            "Hit ESC key to quit, 'a' to toggle animation, and 'e' to toggle cuda\n"
          ]
        },
        {
          "output_type": "error",
          "ename": "NullFunctionError",
          "evalue": "Attempt to call an undefined function glutInitWindowSize, check for bool(glutInitWindowSize) before calling",
          "traceback": [
            "\u001b[0;31m---------------------------------------------------------------------------\u001b[0m",
            "\u001b[0;31mNullFunctionError\u001b[0m                         Traceback (most recent call last)",
            "\u001b[0;32m<ipython-input-11-26c143c78847>\u001b[0m in \u001b[0;36m<cell line: 48>\u001b[0;34m()\u001b[0m\n\u001b[1;32m     48\u001b[0m \u001b[0;32mif\u001b[0m \u001b[0m__name__\u001b[0m \u001b[0;34m==\u001b[0m \u001b[0;34m\"__main__\"\u001b[0m\u001b[0;34m:\u001b[0m\u001b[0;34m\u001b[0m\u001b[0;34m\u001b[0m\u001b[0m\n\u001b[1;32m     49\u001b[0m     \u001b[0mprint\u001b[0m\u001b[0;34m(\u001b[0m\u001b[0;34m\"Hit ESC key to quit, 'a' to toggle animation, and 'e' to toggle cuda\"\u001b[0m\u001b[0;34m)\u001b[0m\u001b[0;34m\u001b[0m\u001b[0;34m\u001b[0m\u001b[0m\n\u001b[0;32m---> 50\u001b[0;31m     \u001b[0mmain\u001b[0m\u001b[0;34m(\u001b[0m\u001b[0;34m)\u001b[0m\u001b[0;34m\u001b[0m\u001b[0;34m\u001b[0m\u001b[0m\n\u001b[0m",
            "\u001b[0;32m<ipython-input-11-26c143c78847>\u001b[0m in \u001b[0;36mmain\u001b[0;34m()\u001b[0m\n\u001b[1;32m      3\u001b[0m     \u001b[0;31m#glutInit(sys.argv)\u001b[0m\u001b[0;34m\u001b[0m\u001b[0;34m\u001b[0m\u001b[0m\n\u001b[1;32m      4\u001b[0m     \u001b[0;31m#glutInitDisplayMode(GLUT_RGBA | GLUT_DOUBLE | GLUT_ALPHA | GLUT_DEPTH)\u001b[0m\u001b[0;34m\u001b[0m\u001b[0;34m\u001b[0m\u001b[0m\n\u001b[0;32m----> 5\u001b[0;31m     \u001b[0mglutInitWindowSize\u001b[0m\u001b[0;34m(\u001b[0m\u001b[0;34m*\u001b[0m\u001b[0minitial_size\u001b[0m\u001b[0;34m)\u001b[0m\u001b[0;34m\u001b[0m\u001b[0;34m\u001b[0m\u001b[0m\n\u001b[0m\u001b[1;32m      6\u001b[0m     \u001b[0mglutInitWindowPosition\u001b[0m\u001b[0;34m(\u001b[0m\u001b[0;36m0\u001b[0m\u001b[0;34m,\u001b[0m \u001b[0;36m0\u001b[0m\u001b[0;34m)\u001b[0m\u001b[0;34m\u001b[0m\u001b[0;34m\u001b[0m\u001b[0m\n\u001b[1;32m      7\u001b[0m     \u001b[0mwindow\u001b[0m \u001b[0;34m=\u001b[0m \u001b[0mglutCreateWindow\u001b[0m\u001b[0;34m(\u001b[0m\u001b[0;34m\"PyCuda GL Interop Example\"\u001b[0m\u001b[0;34m)\u001b[0m\u001b[0;34m\u001b[0m\u001b[0;34m\u001b[0m\u001b[0m\n",
            "\u001b[0;32m/usr/local/lib/python3.10/dist-packages/OpenGL/platform/baseplatform.py\u001b[0m in \u001b[0;36m__call__\u001b[0;34m(self, *args, **named)\u001b[0m\n\u001b[1;32m    421\u001b[0m                 \u001b[0;32mpass\u001b[0m\u001b[0;34m\u001b[0m\u001b[0;34m\u001b[0m\u001b[0m\n\u001b[1;32m    422\u001b[0m             \u001b[0;32melse\u001b[0m\u001b[0;34m:\u001b[0m\u001b[0;34m\u001b[0m\u001b[0;34m\u001b[0m\u001b[0m\n\u001b[0;32m--> 423\u001b[0;31m                 raise error.NullFunctionError(\n\u001b[0m\u001b[1;32m    424\u001b[0m                     \"\"\"Attempt to call an undefined function %s, check for bool(%s) before calling\"\"\"%(\n\u001b[1;32m    425\u001b[0m                         \u001b[0mself\u001b[0m\u001b[0;34m.\u001b[0m\u001b[0m__name__\u001b[0m\u001b[0;34m,\u001b[0m \u001b[0mself\u001b[0m\u001b[0;34m.\u001b[0m\u001b[0m__name__\u001b[0m\u001b[0;34m,\u001b[0m\u001b[0;34m\u001b[0m\u001b[0;34m\u001b[0m\u001b[0m\n",
            "\u001b[0;31mNullFunctionError\u001b[0m: Attempt to call an undefined function glutInitWindowSize, check for bool(glutInitWindowSize) before calling"
          ]
        }
      ]
    }
  ]
}