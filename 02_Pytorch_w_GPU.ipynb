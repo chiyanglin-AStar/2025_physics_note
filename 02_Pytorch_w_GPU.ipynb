{
  "nbformat": 4,
  "nbformat_minor": 0,
  "metadata": {
    "colab": {
      "provenance": [],
      "authorship_tag": "ABX9TyNBDzHf7kQVsZmsMzBMwnAN",
      "include_colab_link": true
    },
    "kernelspec": {
      "name": "python3",
      "display_name": "Python 3"
    },
    "language_info": {
      "name": "python"
    }
  },
  "cells": [
    {
      "cell_type": "markdown",
      "metadata": {
        "id": "view-in-github",
        "colab_type": "text"
      },
      "source": [
        "<a href=\"https://colab.research.google.com/github/chiyanglin-AStar/2025_physics_note/blob/main/02_Pytorch_w_GPU.ipynb\" target=\"_parent\"><img src=\"https://colab.research.google.com/assets/colab-badge.svg\" alt=\"Open In Colab\"/></a>"
      ]
    },
    {
      "cell_type": "markdown",
      "source": [
        "Pytorch usage for GPU\n",
        "\n",
        "[How to use GPU acceleration in PyTorch?](https://www.geeksforgeeks.org/how-to-use-gpu-acceleration-in-pytorch/)\n",
        "\n",
        "[Use GPU in your PyTorch code](https://medium.com/ai%C2%B3-theory-practice-business/use-gpu-in-your-pytorch-code-676a67faed09)"
      ],
      "metadata": {
        "id": "y6WSF6Q5QPGI"
      }
    },
    {
      "cell_type": "markdown",
      "source": [
        "## ***check GPU exist or not , method 1***"
      ],
      "metadata": {
        "id": "vn9SEV1xRsvP"
      }
    },
    {
      "cell_type": "code",
      "execution_count": null,
      "metadata": {
        "colab": {
          "base_uri": "https://localhost:8080/"
        },
        "id": "SCNDB8m0QNq6",
        "outputId": "2cdfe311-4a82-4295-929c-d89057f73226"
      },
      "outputs": [
        {
          "output_type": "stream",
          "name": "stdout",
          "text": [
            "GPU: Tesla T4 is available.\n"
          ]
        }
      ],
      "source": [
        "import torch\n",
        "if torch.cuda.is_available():\n",
        "    print(f\"GPU: {torch.cuda.get_device_name(0)} is available.\")\n",
        "else:\n",
        "    print(\"No GPU available. Training will run on CPU.\")"
      ]
    },
    {
      "cell_type": "markdown",
      "source": [
        "## ***check GPU exist or not , method 2***"
      ],
      "metadata": {
        "id": "-cA2JHXwZS-O"
      }
    },
    {
      "cell_type": "code",
      "source": [
        "import torch\n",
        "device = torch.device(\"cuda\" if torch.cuda.is_available() else \"cpu\")\n",
        "print(device)"
      ],
      "metadata": {
        "id": "q7_CUxbKW45x",
        "outputId": "10a11039-eb73-4fa3-e442-55c2b4764713",
        "colab": {
          "base_uri": "https://localhost:8080/"
        }
      },
      "execution_count": 2,
      "outputs": [
        {
          "output_type": "stream",
          "name": "stdout",
          "text": [
            "cpu\n"
          ]
        }
      ]
    },
    {
      "cell_type": "markdown",
      "source": [
        "## ***Moving Tensors to GPU***"
      ],
      "metadata": {
        "id": "D1tXH2LAY98-"
      }
    },
    {
      "cell_type": "code",
      "source": [
        "import torch\n",
        "# Create a tensor on the CPU\n",
        "tensor = torch.randn((3, 3))\n",
        "#Move the tensor to the GPU\n",
        "tensor = tensor.to('cuda'"
      ],
      "metadata": {
        "id": "XgjMBH0nZf5E"
      },
      "execution_count": null,
      "outputs": []
    },
    {
      "cell_type": "markdown",
      "source": [
        "## ***Parallel Processing with PyTorch***"
      ],
      "metadata": {
        "id": "sRewYuvwZmqX"
      }
    },
    {
      "cell_type": "code",
      "source": [
        "import torch\n",
        "import torch.nn as nn\n",
        "\n",
        "model = nn.Conv2d(3, 64, 3, 1, 1) # Create a model\n",
        "\n",
        "model = nn.DataParallel(model) # Wrap the model with DataParallel\n",
        "\n",
        "model = model.to('cuda') # Move the model to the GPU\n",
        "# Perform forward pass on the model\n",
        "input_data = torch.randn(20, 3, 32, 32).to('cuda')\n",
        "output = model(input_data)"
      ],
      "metadata": {
        "id": "OQEj4U5FZsMZ"
      },
      "execution_count": null,
      "outputs": []
    }
  ]
}