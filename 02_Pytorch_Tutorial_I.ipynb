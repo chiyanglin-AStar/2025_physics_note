{
  "nbformat": 4,
  "nbformat_minor": 0,
  "metadata": {
    "colab": {
      "provenance": [],
      "authorship_tag": "ABX9TyPaHuLtrQcVpDrPnZ1o4yuz",
      "include_colab_link": true
    },
    "kernelspec": {
      "name": "python3",
      "display_name": "Python 3"
    },
    "language_info": {
      "name": "python"
    }
  },
  "cells": [
    {
      "cell_type": "markdown",
      "metadata": {
        "id": "view-in-github",
        "colab_type": "text"
      },
      "source": [
        "<a href=\"https://colab.research.google.com/github/chiyanglin-AStar/2025_physics_note/blob/main/02_Pytorch_Tutorial_I.ipynb\" target=\"_parent\"><img src=\"https://colab.research.google.com/assets/colab-badge.svg\" alt=\"Open In Colab\"/></a>"
      ]
    },
    {
      "cell_type": "markdown",
      "source": [
        "[PyTorch Tutorial - Learn PyTorch with Examples](https://www.geeksforgeeks.org/pytorch-learn-with-examples/)\n",
        "\n",
        "[pytorch_basics](https://github.com/yunjey/pytorch-tutorial/blob/master/tutorials/01-basics/pytorch_basics/main.py)"
      ],
      "metadata": {
        "id": "13XXPr52YNcr"
      }
    },
    {
      "cell_type": "markdown",
      "source": [
        "##***PyTorch Basics:*** Tensors and GPU Acceleration in PyTorch\n",
        "###***1. Tensors in PyTorch***\n",
        "A ***tensor*** is a multi-dimensional array that is the fundamental data structure used in PyTorch (and many other machine learning frameworks). Tensors are crucial in PyTorch because they allow you to:\n",
        "\n",
        "***Store Data:*** Tensors can hold various types of data, including images, text, and numerical values.\n",
        "\n",
        "***Perform Calculations:*** You can carry out mathematical operations on tensors, which is essential for training machine learning models.\n",
        "\n",
        "***Utilize GPUs:*** Tensors can be moved to and processed on a Graphics Processing Unit (GPU), allowing for faster computations, especially important in deep learning tasks."
      ],
      "metadata": {
        "id": "iCeodyOLQJ-2"
      }
    },
    {
      "cell_type": "markdown",
      "source": [
        "***Creating Tensor in PyTorch***\n",
        "\n",
        "We can create tensors for performing above in several ways:"
      ],
      "metadata": {
        "id": "n7dTIxm_RfEL"
      }
    },
    {
      "cell_type": "code",
      "execution_count": null,
      "metadata": {
        "id": "rCt1doFTYGSl"
      },
      "outputs": [],
      "source": [
        "# Creating Tensors from Python Lists\n",
        "import torch\n",
        "my_tensor = torch.tensor([1, 2, 3])\n",
        "print(my_tensor)"
      ]
    },
    {
      "cell_type": "code",
      "source": [
        "# Creating Tensors from a NumPy array\n",
        "import numpy as np\n",
        "import torch\n",
        "\n",
        "numpy_array = np.array([[1, 2, 3], [4, 5, 6]])\n",
        "torch_tensor = torch.from_numpy(numpy_array)\n",
        "print(\"\\nPyTorch Tensor:\")\n",
        "print(torch_tensor)"
      ],
      "metadata": {
        "id": "NcM3PPAeRwtP"
      },
      "execution_count": null,
      "outputs": []
    },
    {
      "cell_type": "markdown",
      "source": [
        "###***2. Tensor Operations: Indexing, Slicing, Reshaping***\n",
        "\n",
        "PyTorch offers functionalities for tensor operations, including indexing, slicing, and reshaping. These operations are essential for manipulating data efficiently, especially when preparing data for machine learning tasks.\n",
        "\n",
        "***Indexing:***\n",
        "\n",
        "Indexing lets you retrieve specific elements or smaller sections from a larger tensor. For example, you can access a single number or a smaller block of numbers from the tensor.\n",
        "\n",
        "***Slicing:***\n",
        "\n",
        "Slicing allows you to take out a portion of the tensor by specifying a range of rows or columns. It’s like cutting a slice out of a cake, giving you just the part you want.\n",
        "\n",
        "***Reshaping:***\n",
        "\n",
        "Reshaping changes the shape or dimensions of a tensor without changing its actual data. This means you can reorganize the tensor into a different size while keeping all the original values intact."
      ],
      "metadata": {
        "id": "02mK9rZ8R244"
      }
    },
    {
      "cell_type": "code",
      "source": [
        "import torch\n",
        "\n",
        "# Create a 3x2 tensor\n",
        "tensor = torch.tensor([[1, 2], [3, 4], [5, 6]])\n",
        "\n",
        "# 1. Indexing: Access the element at row 1, column 0\n",
        "element = tensor[1, 0]\n",
        "print(f\"Indexed Element (Row 1, Column 0): {element}\")  # Outputs: 3\n",
        "\n",
        "# 2. Slicing: Extract the first two rows\n",
        "slice_tensor = tensor[:2, :]\n",
        "print(f\"Sliced Tensor (First two rows): \\n{slice_tensor}\")\n",
        "\n",
        "# 3. Reshaping: Reshape the tensor to a 2x3 tensor\n",
        "reshaped_tensor = tensor.view(2, 3)\n",
        "print(f\"Reshaped Tensor (2x3): \\n{reshaped_tensor}\")"
      ],
      "metadata": {
        "id": "Pj5_tgLoSWgZ"
      },
      "execution_count": null,
      "outputs": []
    }
  ]
}