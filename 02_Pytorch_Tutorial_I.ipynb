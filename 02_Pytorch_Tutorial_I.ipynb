{
  "nbformat": 4,
  "nbformat_minor": 0,
  "metadata": {
    "colab": {
      "provenance": [],
      "authorship_tag": "ABX9TyOuyFPjDVmZ1ql6nlBmGNEw",
      "include_colab_link": true
    },
    "kernelspec": {
      "name": "python3",
      "display_name": "Python 3"
    },
    "language_info": {
      "name": "python"
    }
  },
  "cells": [
    {
      "cell_type": "markdown",
      "metadata": {
        "id": "view-in-github",
        "colab_type": "text"
      },
      "source": [
        "<a href=\"https://colab.research.google.com/github/chiyanglin-AStar/2025_physics_note/blob/main/02_Pytorch_Tutorial_I.ipynb\" target=\"_parent\"><img src=\"https://colab.research.google.com/assets/colab-badge.svg\" alt=\"Open In Colab\"/></a>"
      ]
    },
    {
      "cell_type": "markdown",
      "source": [
        "[PyTorch Tutorial - Learn PyTorch with Examples](https://www.geeksforgeeks.org/pytorch-learn-with-examples/)\n",
        "\n",
        "[pytorch_basics](https://github.com/yunjey/pytorch-tutorial/blob/master/tutorials/01-basics/pytorch_basics/main.py)"
      ],
      "metadata": {
        "id": "13XXPr52YNcr"
      }
    },
    {
      "cell_type": "markdown",
      "source": [
        "##***PyTorch Basics:*** Tensors and GPU Acceleration in PyTorch\n",
        "***1. Tensors in PyTorch***\n",
        "A ***tensor*** is a multi-dimensional array that is the fundamental data structure used in PyTorch (and many other machine learning frameworks). Tensors are crucial in PyTorch because they allow you to:\n",
        "\n",
        "***Store Data:*** Tensors can hold various types of data, including images, text, and numerical values.\n",
        "\n",
        "***Perform Calculations:*** You can carry out mathematical operations on tensors, which is essential for training machine learning models.\n",
        "\n",
        "***Utilize GPUs:*** Tensors can be moved to and processed on a Graphics Processing Unit (GPU), allowing for faster computations, especially important in deep learning tasks."
      ],
      "metadata": {
        "id": "iCeodyOLQJ-2"
      }
    },
    {
      "cell_type": "markdown",
      "source": [
        "***Creating Tensor in PyTorch***\n",
        "\n",
        "We can create tensors for performing above in several ways:"
      ],
      "metadata": {
        "id": "n7dTIxm_RfEL"
      }
    },
    {
      "cell_type": "code",
      "execution_count": null,
      "metadata": {
        "id": "rCt1doFTYGSl"
      },
      "outputs": [],
      "source": [
        "# Creating Tensors from Python Lists\n",
        "import torch\n",
        "my_tensor = torch.tensor([1, 2, 3])\n",
        "print(my_tensor)"
      ]
    }
  ]
}