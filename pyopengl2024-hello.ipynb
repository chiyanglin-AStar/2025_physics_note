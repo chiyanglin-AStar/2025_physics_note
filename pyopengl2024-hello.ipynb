{
  "nbformat": 4,
  "nbformat_minor": 0,
  "metadata": {
    "colab": {
      "provenance": [],
      "authorship_tag": "ABX9TyOQDO5+i0P/LQTct7RibQRr",
      "include_colab_link": true
    },
    "kernelspec": {
      "name": "python3",
      "display_name": "Python 3"
    },
    "language_info": {
      "name": "python"
    }
  },
  "cells": [
    {
      "cell_type": "markdown",
      "metadata": {
        "id": "view-in-github",
        "colab_type": "text"
      },
      "source": [
        "<a href=\"https://colab.research.google.com/github/chiyanglin-AStar/2025_physics_note/blob/main/pyopengl2024-hello.ipynb\" target=\"_parent\"><img src=\"https://colab.research.google.com/assets/colab-badge.svg\" alt=\"Open In Colab\"/></a>"
      ]
    },
    {
      "cell_type": "markdown",
      "source": [
        "this case is from [pyopengl 2024/1 - hello window/main.py](https://github.com/amengede/getIntoGameDev/blob/main/pyopengl%202024/1%20-%20hello%20window/main.pyy)"
      ],
      "metadata": {
        "id": "QdYy6ISQmOsm"
      }
    },
    {
      "cell_type": "code",
      "source": [
        "!pip install glfw\n",
        "!pip install PyOpenGL"
      ],
      "metadata": {
        "colab": {
          "base_uri": "https://localhost:8080/"
        },
        "id": "RHmZpi5oqxT4",
        "outputId": "9d331a01-b07a-479f-cc16-82a3a272dbed"
      },
      "execution_count": null,
      "outputs": [
        {
          "output_type": "stream",
          "name": "stdout",
          "text": [
            "Requirement already satisfied: glfw in /usr/local/lib/python3.10/dist-packages (2.8.0)\n",
            "Requirement already satisfied: PyOpenGL in /usr/local/lib/python3.10/dist-packages (3.1.7)\n"
          ]
        }
      ]
    },
    {
      "cell_type": "code",
      "source": [
        "import glfw\n",
        "import glfw.GLFW as GLFW_CONSTANTS\n",
        "from OpenGL.GL import *\n",
        "\n",
        "\n",
        "SCREEN_WIDTH = 640\n",
        "SCREEN_HEIGHT = 480\n",
        "glfw.init()\n",
        "glfw.window_hint(GLFW_CONSTANTS.GLFW_CONTEXT_VERSION_MAJOR,3)\n",
        "glfw.window_hint(GLFW_CONSTANTS.GLFW_CONTEXT_VERSION_MINOR,3)\n",
        "glfw.window_hint(GLFW_CONSTANTS.GLFW_OPENGL_PROFILE,GLFW_CONSTANTS.GLFW_OPENGL_CORE_PROFILE)\n",
        "glfw.window_hint(GLFW_CONSTANTS.GLFW_OPENGL_FORWARD_COMPAT,GLFW_CONSTANTS.GLFW_TRUE)\n",
        "#window = glfw.create_window(SCREEN_WIDTH, SCREEN_HEIGHT, \"Title\", None, None)\n",
        "#glfw.make_context_current(window)"
      ],
      "metadata": {
        "colab": {
          "base_uri": "https://localhost:8080/"
        },
        "id": "5ugGLau-qhvn",
        "outputId": "0dfadf9e-967a-4183-de43-bd4a7aeed3a7"
      },
      "execution_count": null,
      "outputs": [
        {
          "output_type": "stream",
          "name": "stderr",
          "text": [
            "/usr/local/lib/python3.10/dist-packages/glfw/__init__.py:917: GLFWError: (65550) b'X11: The DISPLAY environment variable is missing'\n",
            "  warnings.warn(message, GLFWError)\n",
            "/usr/local/lib/python3.10/dist-packages/glfw/__init__.py:917: GLFWError: (65537) b'The GLFW library is not initialized'\n",
            "  warnings.warn(message, GLFWError)\n"
          ]
        }
      ]
    },
    {
      "cell_type": "code",
      "execution_count": null,
      "metadata": {
        "id": "tgvXvf67qW3y"
      },
      "outputs": [],
      "source": [
        "import glfw\n",
        "import glfw.GLFW as GLFW_CONSTANTS\n",
        "from OpenGL.GL import *\n",
        "\n",
        "SCREEN_WIDTH = 640\n",
        "SCREEN_HEIGHT = 480\n",
        "\n",
        "class App:\n",
        "\n",
        "\n",
        "    def __init__(self):\n",
        "        \"\"\" Initialise the program \"\"\"\n",
        "        glfw.init()\n",
        "        glfw.window_hint(GLFW_CONSTANTS.GLFW_CONTEXT_VERSION_MAJOR,3)\n",
        "        glfw.window_hint(GLFW_CONSTANTS.GLFW_CONTEXT_VERSION_MINOR,3)\n",
        "        glfw.window_hint(\n",
        "            GLFW_CONSTANTS.GLFW_OPENGL_PROFILE,\n",
        "            GLFW_CONSTANTS.GLFW_OPENGL_CORE_PROFILE\n",
        "        )\n",
        "        glfw.window_hint(\n",
        "            GLFW_CONSTANTS.GLFW_OPENGL_FORWARD_COMPAT,\n",
        "            GLFW_CONSTANTS.GLFW_TRUE\n",
        "        )\n",
        "        self.window = glfw.create_window(\n",
        "            SCREEN_WIDTH, SCREEN_HEIGHT, \"Title\", None, None)\n",
        "        glfw.make_context_current(self.window)\n",
        "        glClearColor(0.1, 0.2, 0.2, 1)\n",
        "\n",
        "    def run(self):\n",
        "        \"\"\" Run the app \"\"\"\n",
        "\n",
        "        while not glfw.window_should_close(self.window):\n",
        "            #check events\n",
        "            if glfw.get_key(self.window, GLFW_CONSTANTS.GLFW_KEY_ESCAPE) \\\n",
        "                == GLFW_CONSTANTS.GLFW_PRESS:\n",
        "                break\n",
        "            glfw.poll_events()\n",
        "            #refresh screen\n",
        "            glClear(GL_COLOR_BUFFER_BIT)\n",
        "            glfw.swap_buffers(self.window)\n",
        "\n",
        "    def quit(self):\n",
        "        \"\"\" cleanup the app, run exit code \"\"\"\n",
        "        glfw.destroy_window(self.window)\n",
        "        glfw.terminate()\n",
        "\n",
        "my_app = App()\n",
        "my_app.run()\n",
        "my_app.quit()"
      ]
    }
  ]
}